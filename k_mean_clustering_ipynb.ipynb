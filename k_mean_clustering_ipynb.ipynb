{
  "nbformat": 4,
  "nbformat_minor": 0,
  "metadata": {
    "colab": {
      "name": "k mean clustering ipynb",
      "provenance": [],
      "authorship_tag": "ABX9TyNlVC/Yzl5bUlBxnMSv3BG6",
      "include_colab_link": true
    },
    "kernelspec": {
      "name": "python3",
      "display_name": "Python 3"
    },
    "language_info": {
      "name": "python"
    }
  },
  "cells": [
    {
      "cell_type": "markdown",
      "metadata": {
        "id": "view-in-github",
        "colab_type": "text"
      },
      "source": [
        "<a href=\"https://colab.research.google.com/github/abhisingh02/DAA-Assignment-1/blob/main/k_mean_clustering_ipynb.ipynb\" target=\"_parent\"><img src=\"https://colab.research.google.com/assets/colab-badge.svg\" alt=\"Open In Colab\"/></a>"
      ]
    },
    {
      "cell_type": "code",
      "execution_count": null,
      "metadata": {
        "id": "7ZLbXTCmNatj"
      },
      "outputs": [],
      "source": [
        "import numpy as np\n",
        "from sklearn.cluster import KMeans"
      ]
    },
    {
      "cell_type": "code",
      "source": [
        "import matplotlib.pyplot as plt"
      ],
      "metadata": {
        "id": "qEaxUJviNwbd"
      },
      "execution_count": null,
      "outputs": []
    },
    {
      "cell_type": "code",
      "source": [
        "data=np.array([[1,1],[1,0],[0,2],[2,4],[3,5]])"
      ],
      "metadata": {
        "id": "p-0oQvdKONHu"
      },
      "execution_count": null,
      "outputs": []
    },
    {
      "cell_type": "code",
      "source": [
        "print(data)"
      ],
      "metadata": {
        "colab": {
          "base_uri": "https://localhost:8080/"
        },
        "id": "_apy3V8WOmsn",
        "outputId": "5ed39f6e-f5ae-4d8b-8e79-8156fb00a829"
      },
      "execution_count": null,
      "outputs": [
        {
          "output_type": "stream",
          "name": "stdout",
          "text": [
            "[[1 1]\n",
            " [1 0]\n",
            " [0 2]\n",
            " [2 4]\n",
            " [3 5]]\n"
          ]
        }
      ]
    },
    {
      "cell_type": "code",
      "source": [
        "kmean=KMeans(n_clusters=3)"
      ],
      "metadata": {
        "id": "2ILaU8buOo2-"
      },
      "execution_count": null,
      "outputs": []
    },
    {
      "cell_type": "code",
      "source": [
        "kmean.fit(data)"
      ],
      "metadata": {
        "colab": {
          "base_uri": "https://localhost:8080/"
        },
        "id": "x067DZ_jOwxe",
        "outputId": "206d45d2-6d8e-4202-e0ae-c5daf844d66b"
      },
      "execution_count": null,
      "outputs": [
        {
          "output_type": "execute_result",
          "data": {
            "text/plain": [
              "KMeans(n_clusters=3)"
            ]
          },
          "metadata": {},
          "execution_count": 6
        }
      ]
    },
    {
      "cell_type": "code",
      "source": [
        "centroid=kmean.cluster_centers_\n",
        "labels=kmean.labels_"
      ],
      "metadata": {
        "id": "qxKcPqDBO0-3"
      },
      "execution_count": null,
      "outputs": []
    },
    {
      "cell_type": "code",
      "source": [
        "print(centroid,labels)"
      ],
      "metadata": {
        "colab": {
          "base_uri": "https://localhost:8080/"
        },
        "id": "8jUsRG-mPBxP",
        "outputId": "7d77bc73-4c87-4bb4-e24e-f296e7225a22"
      },
      "execution_count": null,
      "outputs": [
        {
          "output_type": "stream",
          "name": "stdout",
          "text": [
            "[[1.  0.5]\n",
            " [2.5 4.5]\n",
            " [0.  2. ]] [0 0 2 1 1]\n"
          ]
        }
      ]
    },
    {
      "cell_type": "code",
      "source": [
        "colors=['r.','b.','g.','y.','c.','r.','b.','g.','y.','c.']"
      ],
      "metadata": {
        "id": "GNu2ehw0PqW_"
      },
      "execution_count": null,
      "outputs": []
    },
    {
      "cell_type": "code",
      "source": [
        "for i in range(len(data)):\n",
        "  print('cordinates',data[i],'labell',labels[i])\n",
        "  plt.plot(data[:,0],data[:,1],colors[i],markerSize=10)\n",
        "plt.scatter(centroid[:,0],centroid[:,1],c='r',s=10,linewidth=10,marker='X')\n",
        "plt.show()"
      ],
      "metadata": {
        "colab": {
          "base_uri": "https://localhost:8080/",
          "height": 352
        },
        "id": "LvhFyc9eQGw0",
        "outputId": "1fae21fb-537f-47d6-a9dd-4e81ccb68681"
      },
      "execution_count": null,
      "outputs": [
        {
          "output_type": "stream",
          "name": "stdout",
          "text": [
            "cordinates [1 1] labell 0\n",
            "cordinates [1 0] labell 0\n",
            "cordinates [0 2] labell 2\n",
            "cordinates [2 4] labell 1\n",
            "cordinates [3 5] labell 1\n"
          ]
        },
        {
          "output_type": "display_data",
          "data": {
            "image/png": "[encoded data removed]",
            "text/plain": [
              "<Figure size 432x288 with 1 Axes>"
            ]
          },
          "metadata": {
            "needs_background": "light"
          }
        }
      ]
    },
    {
      "cell_type": "code",
      "source": [
        "import pandas as pd"
      ],
      "metadata": {
        "id": "eLhG6v4zTTrH"
      },
      "execution_count": null,
      "outputs": []
    },
    {
      "cell_type": "code",
      "source": [
        "dataset = pd.read_excel('/content/data.xlsx')"
      ],
      "metadata": {
        "id": "XW42zfLsTXqx"
      },
      "execution_count": null,
      "outputs": []
    },
    {
      "cell_type": "code",
      "source": [
        "cname=dataset.columns"
      ],
      "metadata": {
        "id": "v5ZJVfHdUt9J"
      },
      "execution_count": null,
      "outputs": []
    },
    {
      "cell_type": "code",
      "source": [
        "X=dataset.iloc[:,2:9]"
      ],
      "metadata": {
        "id": "zAzA9QUhU-ig"
      },
      "execution_count": null,
      "outputs": []
    },
    {
      "cell_type": "code",
      "source": [
        "X.head()"
      ],
      "metadata": {
        "colab": {
          "base_uri": "https://localhost:8080/",
          "height": 206
        },
        "id": "D7-8K9jaTocH",
        "outputId": "44b7d118-12b1-442f-cbdd-516cd1bfb775"
      },
      "execution_count": null,
      "outputs": [
        {
          "output_type": "execute_result",
          "data": {
            "text/html": [
              "<div>\n",
              "<style scoped>\n",
              "    .dataframe tbody tr th:only-of-type {\n",
              "        vertical-align: middle;\n",
              "    }\n",
              "\n",
              "    .dataframe tbody tr th {\n",
              "        vertical-align: top;\n",
              "    }\n",
              "\n",
              "    .dataframe thead th {\n",
              "        text-align: right;\n",
              "    }\n",
              "</style>\n",
              "<table border=\"1\" class=\"dataframe\">\n",
              "  <thead>\n",
              "    <tr style=\"text-align: right;\">\n",
              "      <th></th>\n",
              "      <th>WO count</th>\n",
              "      <th>AVG Labor</th>\n",
              "      <th>Labor Cost</th>\n",
              "      <th>No Problem</th>\n",
              "      <th>Avg Cost</th>\n",
              "      <th>Travel</th>\n",
              "      <th>Travel Cost</th>\n",
              "    </tr>\n",
              "  </thead>\n",
              "  <tbody>\n",
              "    <tr>\n",
              "      <th>0</th>\n",
              "      <td>10</td>\n",
              "      <td>43.333333</td>\n",
              "      <td>54.166667</td>\n",
              "      <td>0</td>\n",
              "      <td>0.0</td>\n",
              "      <td>2.0</td>\n",
              "      <td>150.0</td>\n",
              "    </tr>\n",
              "    <tr>\n",
              "      <th>1</th>\n",
              "      <td>1</td>\n",
              "      <td>24.000000</td>\n",
              "      <td>30.000000</td>\n",
              "      <td>0</td>\n",
              "      <td>0.0</td>\n",
              "      <td>2.0</td>\n",
              "      <td>150.0</td>\n",
              "    </tr>\n",
              "    <tr>\n",
              "      <th>2</th>\n",
              "      <td>4</td>\n",
              "      <td>210.000000</td>\n",
              "      <td>262.500000</td>\n",
              "      <td>0</td>\n",
              "      <td>0.0</td>\n",
              "      <td>2.0</td>\n",
              "      <td>150.0</td>\n",
              "    </tr>\n",
              "    <tr>\n",
              "      <th>3</th>\n",
              "      <td>9</td>\n",
              "      <td>54.666667</td>\n",
              "      <td>68.333333</td>\n",
              "      <td>1</td>\n",
              "      <td>0.0</td>\n",
              "      <td>2.0</td>\n",
              "      <td>150.0</td>\n",
              "    </tr>\n",
              "    <tr>\n",
              "      <th>4</th>\n",
              "      <td>1</td>\n",
              "      <td>102.000000</td>\n",
              "      <td>127.500000</td>\n",
              "      <td>0</td>\n",
              "      <td>0.0</td>\n",
              "      <td>2.0</td>\n",
              "      <td>150.0</td>\n",
              "    </tr>\n",
              "  </tbody>\n",
              "</table>\n",
              "</div>"
            ],
            "text/plain": [
              "   WO count   AVG Labor  Labor Cost  No Problem  Avg Cost  Travel   Travel Cost\n",
              "0        10   43.333333   54.166667           0       0.0      2.0        150.0\n",
              "1         1   24.000000   30.000000           0       0.0      2.0        150.0\n",
              "2         4  210.000000  262.500000           0       0.0      2.0        150.0\n",
              "3         9   54.666667   68.333333           1       0.0      2.0        150.0\n",
              "4         1  102.000000  127.500000           0       0.0      2.0        150.0"
            ]
          },
          "metadata": {},
          "execution_count": 15
        }
      ]
    },
    {
      "cell_type": "code",
      "source": [
        "Kmean=KMeans(n_clusters=5)\n",
        "Kmean.fit(X)"
      ],
      "metadata": {
        "colab": {
          "base_uri": "https://localhost:8080/"
        },
        "id": "zNh2uM3_VehQ",
        "outputId": "7889fd2c-5074-4a94-a90d-41be4f41baf2"
      },
      "execution_count": null,
      "outputs": [
        {
          "output_type": "execute_result",
          "data": {
            "text/plain": [
              "KMeans(n_clusters=5)"
            ]
          },
          "metadata": {},
          "execution_count": 16
        }
      ]
    },
    {
      "cell_type": "code",
      "source": [
        "label=Kmean.labels_"
      ],
      "metadata": {
        "id": "3MgQgfzJVs3M"
      },
      "execution_count": null,
      "outputs": []
    },
    {
      "cell_type": "code",
      "source": [
        "dataset['Label']=label"
      ],
      "metadata": {
        "id": "1S9nDGcWWnF4"
      },
      "execution_count": null,
      "outputs": []
    },
    {
      "cell_type": "code",
      "source": [
        "dataset.to_excel('new_data.xls')"
      ],
      "metadata": {
        "id": "jPtjaM5IWtv4"
      },
      "execution_count": null,
      "outputs": []
    }
  ]
}